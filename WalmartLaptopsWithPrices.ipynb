{
  "nbformat": 4,
  "nbformat_minor": 0,
  "metadata": {
    "colab": {
      "name": "WalmartLaptopsWithPrices.ipynb",
      "version": "0.3.2",
      "provenance": [],
      "collapsed_sections": []
    },
    "kernelspec": {
      "name": "python3",
      "display_name": "Python 3"
    }
  },
  "cells": [
    {
      "metadata": {
        "id": "Y-wYgLedGfDa",
        "colab_type": "code",
        "colab": {}
      },
      "cell_type": "code",
      "source": [
        "import requests  as req\n",
        "from bs4 import BeautifulSoup\n",
        "from time import sleep\n",
        "from time import time\n",
        "from random import randint\n",
        "from warnings import warn\n",
        "from IPython.core.display import clear_output"
      ],
      "execution_count": 0,
      "outputs": []
    },
    {
      "metadata": {
        "id": "725VaiCdHewn",
        "colab_type": "code",
        "colab": {
          "base_uri": "https://localhost:8080/",
          "height": 51
        },
        "outputId": "953d77a6-1011-4c80-dbc6-55c70f976fa1"
      },
      "cell_type": "code",
      "source": [
        "nam=[]\n",
        "pri=[]\n",
        "response = req.get('https://www.walmart.com/browse/electronics/laptop-computers/hp/3944_3951_132960/YnJhbmQ6SFAie?page=1#searchProductResult')\n",
        "# Parse the content of the request with BeautifulSoup\n",
        "page_html = BeautifulSoup(response.text, 'html.parser')\n",
        "\n",
        "# Select all te laptops from the single page\n",
        "mv_containers = page_html.find_all('div', class_ = 'search-product-result')\n",
        "#For every movie of these 50\n",
        "for container in mv_containers:\n",
        "  laptop=container.find_all('li', class_ = 'Grid-col u-size-6-12 u-size-1-4-m u-size-1-5-xl')\n",
        "  for plap in laptop:\n",
        "    prices=plap.find_all('div',class_='product-price-with-fulfillment')\n",
        "    for pr in prices:\n",
        "      price=pr.span.find_all('span',class_='price-group')\n",
        "      for label in price:\n",
        "        lbl=label.find_all('span')[1].text\n",
        "        pri.append(lbl)\n",
        " # Scrape the name\n",
        "  for lap in laptop:\n",
        "    names=lap.find_all('div',class_='search-result-product-title gridview')\n",
        "    for span in names:\n",
        "      spans=span.find_all('span')[1].a['aria-label']\n",
        "      nam.append(spans)\n",
        "nam.append('HP1')\n",
        "nam.append('HP2')\n",
        "nam.append('HP3')\n",
        "nam.append('HP4')\n",
        "print(len(nam))\n",
        "print(len(pri))"
      ],
      "execution_count": 58,
      "outputs": [
        {
          "output_type": "stream",
          "text": [
            "25\n",
            "25\n"
          ],
          "name": "stdout"
        }
      ]
    }
  ]
}